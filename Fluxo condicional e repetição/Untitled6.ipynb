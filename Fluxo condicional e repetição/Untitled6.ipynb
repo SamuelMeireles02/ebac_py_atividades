{
  "cells": [
    {
      "cell_type": "code",
      "execution_count": 3,
      "metadata": {
        "id": "vz7yOeOtH2qP"
      },
      "outputs": [],
      "source": [
        "propaganda_online = [\n",
        "  {'tempo_gasto_site': 68.95, 'idade': 35, 'renda_area': 61833.90, 'tempo_gasto_internet': 256.09, 'cidade': 'Wrightburgh', 'pais': 'Tunisia', 'clicou_no_ad': 0},\n",
        "  {'tempo_gasto_site': 80.23, 'idade': 31, 'renda_area': 68441.85, 'tempo_gasto_internet': 193.77, 'cidade': 'West Jodi', 'pais': 'Nauru', 'clicou_no_ad': 0},\n",
        "  {'tempo_gasto_site': 69.47, 'idade': 26, 'renda_area': 59785.94, 'tempo_gasto_internet': 236.50, 'cidade': 'Davidton', 'pais': 'San Marino', 'clicou_no_ad': 0},\n",
        "  {'tempo_gasto_site': 68.37, 'idade': 35, 'renda_area': 73889.99, 'tempo_gasto_internet': 225.58, 'cidade': 'South Manuel', 'pais': 'Iceland', 'clicou_no_ad': 0},\n",
        "  {'tempo_gasto_site': 88.91, 'idade': 33, 'renda_area': 53852.85, 'tempo_gasto_internet': 208.36, 'cidade': 'Brandonstad', 'pais': 'Myanmar', 'clicou_no_ad': 0},\n",
        "  {'tempo_gasto_site': None, 'idade': 48, 'renda_area': 24593.33, 'tempo_gasto_internet': 131.76, 'cidade': 'Port Jefferybury', 'pais': 'Australia', 'clicou_no_ad': 1},\n",
        "  {'tempo_gasto_site': 74.53, 'idade': 30, 'renda_area': 68862.00, 'tempo_gasto_internet': 221.51, 'cidade': 'West Colin', 'pais': 'Grenada'},\n",
        "  {'tempo_gasto_site': 69.88, 'idade': 20, 'renda_area': 55642.32, 'tempo_gasto_internet': 183.82, 'cidade': 'Ramirezton', 'pais': 'Ghana', 'clicou_no_ad': 0}\n",
        "]"
      ]
    },
    {
      "cell_type": "code",
      "execution_count": 9,
      "metadata": {
        "colab": {
          "base_uri": "https://localhost:8080/"
        },
        "id": "x8V-9xyAIp0V",
        "outputId": "97840f64-a957-4ae9-aaa1-d8fd93c0ba4d"
      },
      "outputs": [
        {
          "name": "stdout",
          "output_type": "stream",
          "text": [
            "68.95\n",
            "35\n",
            "80.23\n",
            "31\n",
            "69.47\n",
            "26\n",
            "68.37\n",
            "35\n",
            "88.91\n",
            "33\n",
            "None\n",
            "48\n",
            "74.53\n",
            "30\n",
            "69.88\n",
            "20\n"
          ]
        }
      ],
      "source": [
        "for dado_de_usuario in propaganda_online:\n",
        "  print(dado_de_usuario['tempo_gasto_site'])\n",
        "  print(dado_de_usuario['idade'])"
      ]
    },
    {
      "cell_type": "code",
      "execution_count": 5,
      "metadata": {
        "colab": {
          "base_uri": "https://localhost:8080/"
        },
        "id": "JmlkCH7jPBD4",
        "outputId": "bfe0e551-8f77-43fe-92ca-4cf51f6e4343"
      },
      "outputs": [
        {
          "name": "stdout",
          "output_type": "stream",
          "text": [
            "Valor de 'tempo_gasto_site': 68.95\n",
            "Valor de 'tempo_gasto_site': 80.23\n",
            "Valor de 'tempo_gasto_site': 69.47\n",
            "Valor de 'tempo_gasto_site': 68.37\n",
            "Valor de 'tempo_gasto_site': 88.91\n",
            "Valor de 'tempo_gasto_site': None\n",
            "Valor de 'tempo_gasto_site': 74.53\n",
            "Valor de 'tempo_gasto_site': 69.88\n"
          ]
        }
      ],
      "source": [
        "for dado_de_usuario in propaganda_online:\n",
        "    tempo_gasto_site = dado_de_usuario.get('tempo_gasto_site')\n",
        "    print(\"Valor de 'tempo_gasto_site':\", tempo_gasto_site)\n"
      ]
    },
    {
      "cell_type": "code",
      "execution_count": 6,
      "metadata": {
        "colab": {
          "base_uri": "https://localhost:8080/"
        },
        "id": "x0uNQ-lYRenC",
        "outputId": "754872db-111d-4db4-fd55-f873aa07d66e"
      },
      "outputs": [
        {
          "name": "stdout",
          "output_type": "stream",
          "text": [
            "Valor de 'idade': 35\n",
            "Valor de 'idade': 31\n",
            "Valor de 'idade': 26\n",
            "Valor de 'idade': 35\n",
            "Valor de 'idade': 33\n",
            "Valor de 'idade': 48\n",
            "Valor de 'idade': 30\n",
            "Valor de 'idade': 20\n"
          ]
        }
      ],
      "source": [
        "for dado_de_usuario in propaganda_online:\n",
        "    idade = dado_de_usuario.get('idade')\n",
        "    print(\"Valor de 'idade':\", idade)\n"
      ]
    },
    {
      "cell_type": "code",
      "execution_count": 7,
      "metadata": {
        "colab": {
          "base_uri": "https://localhost:8080/"
        },
        "id": "hfaFLSgnS6WV",
        "outputId": "177830ff-307f-4d15-c563-ecc539ef4f56"
      },
      "outputs": [
        {
          "name": "stdout",
          "output_type": "stream",
          "text": [
            "Usuário da cidade Wrightburgh gastou mais de 100 horas na internet.\n",
            "Usuário da cidade West Jodi gastou mais de 100 horas na internet.\n",
            "Usuário da cidade Davidton gastou mais de 100 horas na internet.\n",
            "Usuário da cidade South Manuel gastou mais de 100 horas na internet.\n",
            "Usuário da cidade Brandonstad gastou mais de 100 horas na internet.\n",
            "Usuário da cidade Port Jefferybury gastou mais de 100 horas na internet.\n",
            "Usuário da cidade West Colin gastou mais de 100 horas na internet.\n",
            "Usuário da cidade Ramirezton gastou mais de 100 horas na internet.\n"
          ]
        }
      ],
      "source": [
        "for dado_de_usuario in propaganda_online:\n",
        "    tempo_gasto_internet = dado_de_usuario.get('tempo_gasto_internet', 0)  # Se a chave não existir, assume 0\n",
        "    cidade = dado_de_usuario.get('cidade', 'Cidade não especificada')  # Se a chave não existir, assume uma mensagem padrão\n",
        "\n",
        "    if tempo_gasto_internet > 100:\n",
        "        print(f\"Usuário da cidade {cidade} gastou mais de 100 horas na internet.\")\n",
        "    else:\n",
        "        print(f\"Usuário da cidade {cidade} não gastou mais de 100 horas na internet.\")\n"
      ]
    },
    {
      "cell_type": "code",
      "execution_count": 8,
      "metadata": {},
      "outputs": [
        {
          "name": "stdout",
          "output_type": "stream",
          "text": [
            "Usuário em West Jodi passou mais de 70 segundos no site.\n",
            "Usuário em Brandonstad passou mais de 70 segundos no site.\n",
            "Usuário em West Colin passou mais de 70 segundos no site.\n"
          ]
        }
      ],
      "source": [
        "for dado_de_usuario in propaganda_online:\n",
        "    try:\n",
        "        tempo_gasto_site = dado_de_usuario['tempo_gasto_site']\n",
        "        if tempo_gasto_site is not None and tempo_gasto_site > 70:\n",
        "            print(f\"Usuário em {dado_de_usuario['cidade']} passou mais de 70 segundos no site.\")\n",
        "    except KeyError:\n",
        "        print(\"A chave 'tempo_gasto_site' não está presente no dicionário.\")\n",
        "    except TypeError:\n",
        "        print(\"O valor de 'tempo_gasto_site' não é do tipo numérico.\")"
      ]
    }
  ],
  "metadata": {
    "colab": {
      "provenance": []
    },
    "kernelspec": {
      "display_name": "Python 3",
      "name": "python3"
    },
    "language_info": {
      "codemirror_mode": {
        "name": "ipython",
        "version": 3
      },
      "file_extension": ".py",
      "mimetype": "text/x-python",
      "name": "python",
      "nbconvert_exporter": "python",
      "pygments_lexer": "ipython3",
      "version": "3.11.8"
    }
  },
  "nbformat": 4,
  "nbformat_minor": 0
}
