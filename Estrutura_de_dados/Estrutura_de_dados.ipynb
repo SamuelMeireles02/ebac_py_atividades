{
  "nbformat": 4,
  "nbformat_minor": 0,
  "metadata": {
    "colab": {
      "provenance": []
    },
    "kernelspec": {
      "name": "python3",
      "display_name": "Python 3"
    },
    "language_info": {
      "name": "python"
    }
  },
  "cells": [
    {
      "cell_type": "code",
      "execution_count": 7,
      "metadata": {
        "id": "zetq1jM2aMHF"
      },
      "outputs": [],
      "source": [
        "filmes = [\"The Shawshank Redemption\",\n",
        "    \"The Godfather\",\n",
        "    \"The Dark Knight\",\n",
        "    \"The Godfather: Part II\",\n",
        "    \"The Lord of the Rings: The Return of the King\",\n",
        "    \"Pulp Fiction\",\n",
        "    \"Schindler's List\",\n",
        "    \"12 Angry Men\",\n",
        "    \"Inception\",\n",
        "    \"Fight Club\"]"
      ]
    },
    {
      "cell_type": "code",
      "source": [
        "# Imprimindo a lista inicial\n",
        "print(\"Lista Inicial:\")\n",
        "print(filmes)\n",
        "\n",
        "# Simulando a movimentação do ranking\n",
        "posicao_primeiro_filme = 0\n",
        "posicao_segundo_filme = 1\n",
        "\n",
        "# Trocando a posição do primeiro e segundo filme\n",
        "filmes.insert(posicao_segundo_filme, filmes.pop(posicao_primeiro_filme))\n",
        "\n",
        "# Imprimindo a lista após a movimentação\n",
        "print(\"\\nLista após a movimentação:\")\n",
        "print(filmes)"
      ],
      "metadata": {
        "colab": {
          "base_uri": "https://localhost:8080/"
        },
        "id": "3JJH52DldDhR",
        "outputId": "9c0b70f1-2ef2-478f-92d3-c9395df563ff"
      },
      "execution_count": 8,
      "outputs": [
        {
          "output_type": "stream",
          "name": "stdout",
          "text": [
            "Lista Inicial:\n",
            "['The Shawshank Redemption', 'The Godfather', 'The Dark Knight', 'The Godfather: Part II', 'The Lord of the Rings: The Return of the King', 'Pulp Fiction', \"Schindler's List\", '12 Angry Men', 'Inception', 'Fight Club']\n",
            "\n",
            "Lista após a movimentação:\n",
            "['The Godfather', 'The Shawshank Redemption', 'The Dark Knight', 'The Godfather: Part II', 'The Lord of the Rings: The Return of the King', 'Pulp Fiction', \"Schindler's List\", '12 Angry Men', 'Inception', 'Fight Club']\n"
          ]
        }
      ]
    },
    {
      "cell_type": "code",
      "source": [
        "# Imprimindo a lista inicial\n",
        "print(\"Lista Inicial:\")\n",
        "print(filmes)\n",
        "\n",
        "# Simulando o erro ao duplicar os três últimos filmes\n",
        "filmes.extend(filmes[-3:])\n",
        "\n",
        "# Imprimindo a lista após a duplicação\n",
        "print(\"\\nLista após a duplicação dos três últimos filmes:\")\n",
        "print(filmes)"
      ],
      "metadata": {
        "colab": {
          "base_uri": "https://localhost:8080/"
        },
        "id": "MDu_pL5JfLpv",
        "outputId": "208eadf8-7fdb-46a2-a817-378a59552d28"
      },
      "execution_count": 9,
      "outputs": [
        {
          "output_type": "stream",
          "name": "stdout",
          "text": [
            "Lista Inicial:\n",
            "['The Godfather', 'The Shawshank Redemption', 'The Dark Knight', 'The Godfather: Part II', 'The Lord of the Rings: The Return of the King', 'Pulp Fiction', \"Schindler's List\", '12 Angry Men', 'Inception', 'Fight Club']\n",
            "\n",
            "Lista após a duplicação dos três últimos filmes:\n",
            "['The Godfather', 'The Shawshank Redemption', 'The Dark Knight', 'The Godfather: Part II', 'The Lord of the Rings: The Return of the King', 'Pulp Fiction', \"Schindler's List\", '12 Angry Men', 'Inception', 'Fight Club', '12 Angry Men', 'Inception', 'Fight Club']\n"
          ]
        }
      ]
    },
    {
      "cell_type": "code",
      "source": [
        "# Simulando o erro ao duplicar os três últimos filmes\n",
        "filmes.extend(filmes[-3:])\n",
        "\n",
        "# Imprimindo a lista antes da remoção de duplicatas\n",
        "print(\"Lista antes da remoção de duplicatas:\")\n",
        "print(filmes)\n",
        "\n",
        "# Removendo duplicatas usando a conversão para set e de volta para lista\n",
        "filmes_sem_duplicatas = list(set(filmes))\n",
        "\n",
        "# Imprimindo a lista após a remoção de duplicatas\n",
        "print(\"\\nLista após a remoção de duplicatas:\")\n",
        "print(filmes_sem_duplicatas)"
      ],
      "metadata": {
        "colab": {
          "base_uri": "https://localhost:8080/"
        },
        "id": "bCE_qb9dfgC6",
        "outputId": "381b0ea9-bfbe-4b10-f0b1-f4768f2d8b2f"
      },
      "execution_count": 10,
      "outputs": [
        {
          "output_type": "stream",
          "name": "stdout",
          "text": [
            "Lista antes da remoção de duplicatas:\n",
            "['The Godfather', 'The Shawshank Redemption', 'The Dark Knight', 'The Godfather: Part II', 'The Lord of the Rings: The Return of the King', 'Pulp Fiction', \"Schindler's List\", '12 Angry Men', 'Inception', 'Fight Club', '12 Angry Men', 'Inception', 'Fight Club', '12 Angry Men', 'Inception', 'Fight Club']\n",
            "\n",
            "Lista após a remoção de duplicatas:\n",
            "['Fight Club', 'The Shawshank Redemption', 'Pulp Fiction', 'The Godfather: Part II', 'Inception', 'The Dark Knight', 'The Godfather', \"Schindler's List\", 'The Lord of the Rings: The Return of the King', '12 Angry Men']\n"
          ]
        }
      ]
    },
    {
      "cell_type": "code",
      "source": [
        "filmes = [\n",
        "    {\n",
        "        'nome': 'The Shawshank Redemption',\n",
        "        'ano': 1994,\n",
        "        'sinopse': 'Um homem inocente é condenado à prisão e encontra amizade dentro das paredes de Shawshank.'\n",
        "    },\n",
        "    {\n",
        "        'nome': 'The Godfather',\n",
        "        'ano': 1972,\n",
        "        'sinopse': 'A saga da família Corleone, chefiada por Vito Corleone, um dos mafiosos mais respeitados dos Estados Unidos.'\n",
        "    },\n",
        "    {\n",
        "        'nome': 'The Dark Knight',\n",
        "        'ano': 2008,\n",
        "        'sinopse': 'Batman enfrenta o Coringa, um criminoso psicótico que busca criar o caos em Gotham City.'\n",
        "    },\n",
        "    {\n",
        "        'nome': 'The Godfather: Part II',\n",
        "        'ano': 1974,\n",
        "        'sinopse': 'Continuação da saga Corleone, explorando a ascensão do jovem Vito e as lutas de seu filho Michael.'\n",
        "    },\n",
        "    {\n",
        "        'nome': 'The Lord of the Rings: The Return of the King',\n",
        "        'ano': 2003,\n",
        "        'sinopse': 'Frodo e Sam enfrentam desafios finais para destruir o Um Anel e salvar a Terra Média da escuridão.'\n",
        "    },\n",
        "    {\n",
        "        'nome': 'Pulp Fiction',\n",
        "        'ano': 1994,\n",
        "        'sinopse': 'Histórias interligadas de criminosos, dançarinos e boxeadores na Los Angeles dos anos 90.'\n",
        "    },\n",
        "    {\n",
        "        'nome': \"Schindler's List\",\n",
        "        'ano': 1993,\n",
        "        'sinopse': 'A história real de Oskar Schindler, que salva a vida de mais de mil judeus durante o Holocausto.'\n",
        "    },\n",
        "    {\n",
        "        'nome': '12 Angry Men',\n",
        "        'ano': 1957,\n",
        "        'sinopse': 'Um júri decide o destino de um jovem acusado de homicídio, explorando preconceitos e dúvidas.'\n",
        "    },\n",
        "    {\n",
        "        'nome': 'Inception',\n",
        "        'ano': 2010,\n",
        "        'sinopse': 'Dom Cobb, um ladrão de ideias, é contratado para realizar uma tarefa quase impossível: implantar uma ideia na mente de alguém.'\n",
        "    },\n",
        "    {\n",
        "        'nome': 'Fight Club',\n",
        "        'ano': 1999,\n",
        "        'sinopse': 'Um homem desiludido forma um clube secreto onde homens podem liberar suas frustrações através da violência.'\n",
        "    }\n",
        "]\n",
        "\n",
        "# Imprimindo a lista de filmes com informações adicionais\n",
        "for filme in filmes:\n",
        "    print(f\"Nome: {filme['nome']}\\nAno: {filme['ano']}\\nSinopse: {filme['sinopse']}\\n\")\n",
        ""
      ],
      "metadata": {
        "colab": {
          "base_uri": "https://localhost:8080/"
        },
        "id": "CA2O8El6gsT-",
        "outputId": "fcca21c3-df61-47c5-a271-112368ebb534"
      },
      "execution_count": 14,
      "outputs": [
        {
          "output_type": "stream",
          "name": "stdout",
          "text": [
            "Nome: The Shawshank Redemption\n",
            "Ano: 1994\n",
            "Sinopse: Um homem inocente é condenado à prisão e encontra amizade dentro das paredes de Shawshank.\n",
            "\n",
            "Nome: The Godfather\n",
            "Ano: 1972\n",
            "Sinopse: A saga da família Corleone, chefiada por Vito Corleone, um dos mafiosos mais respeitados dos Estados Unidos.\n",
            "\n",
            "Nome: The Dark Knight\n",
            "Ano: 2008\n",
            "Sinopse: Batman enfrenta o Coringa, um criminoso psicótico que busca criar o caos em Gotham City.\n",
            "\n",
            "Nome: The Godfather: Part II\n",
            "Ano: 1974\n",
            "Sinopse: Continuação da saga Corleone, explorando a ascensão do jovem Vito e as lutas de seu filho Michael.\n",
            "\n",
            "Nome: The Lord of the Rings: The Return of the King\n",
            "Ano: 2003\n",
            "Sinopse: Frodo e Sam enfrentam desafios finais para destruir o Um Anel e salvar a Terra Média da escuridão.\n",
            "\n",
            "Nome: Pulp Fiction\n",
            "Ano: 1994\n",
            "Sinopse: Histórias interligadas de criminosos, dançarinos e boxeadores na Los Angeles dos anos 90.\n",
            "\n",
            "Nome: Schindler's List\n",
            "Ano: 1993\n",
            "Sinopse: A história real de Oskar Schindler, que salva a vida de mais de mil judeus durante o Holocausto.\n",
            "\n",
            "Nome: 12 Angry Men\n",
            "Ano: 1957\n",
            "Sinopse: Um júri decide o destino de um jovem acusado de homicídio, explorando preconceitos e dúvidas.\n",
            "\n",
            "Nome: Inception\n",
            "Ano: 2010\n",
            "Sinopse: Dom Cobb, um ladrão de ideias, é contratado para realizar uma tarefa quase impossível: implantar uma ideia na mente de alguém.\n",
            "\n",
            "Nome: Fight Club\n",
            "Ano: 1999\n",
            "Sinopse: Um homem desiludido forma um clube secreto onde homens podem liberar suas frustrações através da violência.\n",
            "\n"
          ]
        }
      ]
    }
  ]
}