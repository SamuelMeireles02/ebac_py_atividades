{
  "cells": [
    {
      "cell_type": "code",
      "execution_count": 15,
      "metadata": {
        "colab": {
          "base_uri": "https://localhost:8080/"
        },
        "id": "loB1Dt-eJxoB",
        "outputId": "6c49352d-02c6-4f0b-cdc5-0fb5a507492e"
      },
      "outputs": [
        {
          "name": "stdout",
          "output_type": "stream",
          "text": [
            "Overwriting carros.csv\n"
          ]
        }
      ],
      "source": [
        "%%writefile carros.csv\n",
        "id,valor_venda,valor_manutencao,portas,pessoas,porta_malas\n",
        "1,vhigh,med,2,2,small\n",
        "2,med,vhigh,2,2,small\n",
        "3,low,vhigh,2,2,small\n",
        "4,low,high,2,2,small\n",
        "5,low,high,2,2,small\n",
        "6,low,high,4,4,big\n",
        "7,low,high,4,4,big\n",
        "8,low,med,2,2,small\n",
        "9,low,med,2,2,small\n",
        "10,low,med,2,2,small\n",
        "11,low,med,4,4,big\n",
        "12,low,low,2,2,small\n",
        "13,low,low,4,4,small\n",
        "14,low,low,4,4,med \n"
      ]
    },
    {
      "cell_type": "code",
      "execution_count": 16,
      "metadata": {
        "colab": {
          "base_uri": "https://localhost:8080/"
        },
        "id": "i0mpxTT3J8ka",
        "outputId": "c55b1dfa-d542-4f22-93cb-8c662e61de90"
      },
      "outputs": [
        {
          "name": "stdout",
          "output_type": "stream",
          "text": [
            "Overwriting musica.txt\n"
          ]
        }
      ],
      "source": [
        "%%writefile musica.txt\n",
        "Roda Viva\n",
        "Chico Buarque\n",
        "\n",
        "Tem dias que a gente se sente\n",
        "Como quem partiu ou morreu\n",
        "A gente estancou de repente\n",
        "Ou foi o mundo então que cresceu\n",
        "A gente quer ter voz ativa\n",
        "No nosso destino mandar\n",
        "Mas eis que chega a roda viva\n",
        "E carrega o destino pra lá\n",
        "\n",
        "Roda mundo, roda-gigante\n",
        "Roda moinho, roda pião\n",
        "\n",
        "O tempo rodou num instante\n",
        "Nas voltas do meu coração\n",
        "A gente vai contra a corrente\n",
        "Até não poder resistir\n",
        "Na volta do barco é que sente\n",
        "O quanto deixou de cumprir\n",
        "Faz tempo que a gente cultiva\n",
        "A mais linda roseira que há\n",
        "Mas eis que chega a roda viva\n",
        "E carrega a roseira pra lá\n",
        "\n",
        "Roda mundo, roda-gigante\n",
        "Roda moinho, roda pião"
      ]
    },
    {
      "cell_type": "code",
      "execution_count": 17,
      "metadata": {
        "colab": {
          "base_uri": "https://localhost:8080/"
        },
        "id": "dA4viZecPerD",
        "outputId": "27c8542c-5e3c-497b-db85-9aca0520c717"
      },
      "outputs": [
        {
          "name": "stdout",
          "output_type": "stream",
          "text": [
            "['vhigh', 'med', 'low', 'low', 'low', 'low', 'low', 'low', 'low', 'low', 'low', 'low', 'low', 'low']\n"
          ]
        }
      ],
      "source": [
        "# Inicializa uma lista vazia para armazenar os valores de venda dos carros\n",
        "valor_venda = []\n",
        "\n",
        "# Abre o arquivo 'carros.csv' em modo de leitura com codificação UTF-8\n",
        "with open(file='./carros.csv', mode='r', encoding='utf8') as arquivo:\n",
        "    # Lê o cabeçalho do arquivo e o ignora\n",
        "    arquivo.readline()\n",
        "    # Lê a primeira linha de dados\n",
        "    linha = arquivo.readline().strip()\n",
        "    # Continua lendo até o final do arquivo\n",
        "    while linha:\n",
        "        # Divide a linha em uma lista de valores separados por vírgula\n",
        "        valores = linha.split(',')\n",
        "        # Adiciona o valor de venda (segundo elemento) à lista 'valor_venda'\n",
        "        valor_venda.append(valores[1])\n",
        "        # Lê a próxima linha de dados\n",
        "        linha = arquivo.readline().strip()\n",
        "\n",
        "# Imprime a lista de valores de venda dos carros\n",
        "print(valor_venda)"
      ]
    },
    {
      "cell_type": "code",
      "execution_count": 18,
      "metadata": {
        "colab": {
          "base_uri": "https://localhost:8080/"
        },
        "id": "cVngh3e_PiSU",
        "outputId": "613f3c66-8854-415d-aef6-a89bfc59fe81"
      },
      "outputs": [
        {
          "name": "stdout",
          "output_type": "stream",
          "text": [
            "['small', 'small', 'small', 'small', 'small', 'big', 'big', 'small', 'small', 'small', 'big', 'small', 'small', 'med']\n",
            "['med', 'vhigh', 'vhigh', 'high', 'high', 'high', 'high', 'med', 'med', 'med', 'med', 'low', 'low', 'low']\n"
          ]
        }
      ],
      "source": [
        "# Define uma função para extrair uma coluna específica de um arquivo CSV\n",
        "def extrai_coluna_csv(nome_arquivo: str, indice_coluna: int, tipo_dado: str):\n",
        "    # Inicializa uma lista vazia para armazenar os valores da coluna\n",
        "    coluna = []\n",
        "    # Abre o arquivo especificado em modo de leitura com codificação UTF-8\n",
        "    with open(nome_arquivo, mode='r', encoding='utf8') as arquivo:\n",
        "        # Lê o cabeçalho do arquivo e o ignora\n",
        "        arquivo.readline()\n",
        "        # Lê a primeira linha de dados\n",
        "        linha = arquivo.readline().strip()\n",
        "        # Continua lendo até o final do arquivo\n",
        "        while linha:\n",
        "            # Divide a linha em uma lista de valores separados por vírgula\n",
        "            valores = linha.split(',')\n",
        "            # Seleciona o valor da coluna especificada pelo índice\n",
        "            valor = valores[indice_coluna]\n",
        "            # Converte o valor para o tipo de dado especificado\n",
        "            if tipo_dado == 'int':\n",
        "                valor = int(valor)\n",
        "            elif tipo_dado == 'float':\n",
        "                valor = float(valor)\n",
        "            # Adiciona o valor à lista 'coluna'\n",
        "            coluna.append(valor)\n",
        "            # Lê a próxima linha de dados\n",
        "            linha = arquivo.readline().strip()\n",
        "    # Retorna a lista de valores da coluna\n",
        "    return coluna\n",
        "\n",
        "# Usa a função para extrair a coluna 'valor_manutencao' (índice 2) como strings\n",
        "valor_manutencao = extrai_coluna_csv(nome_arquivo='./carros.csv', indice_coluna=2, tipo_dado='str')\n",
        "\n",
        "# Usa a função para extrair a coluna 'porta_malas' (índice 5) como strings\n",
        "porta_malas = extrai_coluna_csv(nome_arquivo='./carros.csv', indice_coluna=5, tipo_dado='str')\n",
        "\n",
        "# Imprime a lista de valores da coluna 'porta_malas'\n",
        "print(porta_malas)\n",
        "# Imprime a lista de valores da coluna 'valor_manutencao'\n",
        "print(valor_manutencao)\n"
      ]
    },
    {
      "cell_type": "code",
      "execution_count": 19,
      "metadata": {
        "colab": {
          "base_uri": "https://localhost:8080/"
        },
        "id": "zPupvRWnPrgX",
        "outputId": "dd622a14-6139-49f0-c02d-927d661fb7bc"
      },
      "outputs": [
        {
          "name": "stdout",
          "output_type": "stream",
          "text": [
            "['Mas', 'eis', 'que', 'chega', 'a', 'roda', 'viva']\n"
          ]
        }
      ],
      "source": [
        "# Define uma função para extrair palavras de uma linha específica de um arquivo de texto\n",
        "def extrai_linha_txt(nome_arquivo: str, numero_linha: int):\n",
        "    # Inicializa uma lista vazia para armazenar as palavras da linha\n",
        "    palavras_linha = []\n",
        "    # Abre o arquivo especificado em modo de leitura com codificação UTF-8\n",
        "    with open(nome_arquivo, mode='r', encoding='utf8') as arquivo:\n",
        "        # Itera sobre as linhas do arquivo com um índice começando de 1\n",
        "        for i, linha in enumerate(arquivo, 1):\n",
        "            # Verifica se o índice atual corresponde ao número da linha desejada\n",
        "            if i == numero_linha:\n",
        "                # Remove os espaços em branco das extremidades da linha e divide a linha em palavras\n",
        "                palavras_linha = linha.strip().split()\n",
        "                # Interrompe o loop após encontrar a linha desejada\n",
        "                break\n",
        "    # Retorna a lista de palavras da linha especificada\n",
        "    return palavras_linha\n",
        "\n",
        "# Chama a função para extrair palavras da linha 10 do arquivo 'musica.txt'\n",
        "linha10 = extrai_linha_txt(nome_arquivo='./musica.txt', numero_linha=10)\n",
        "# Imprime a lista de palavras extraídas da linha 10\n",
        "print(linha10)"
      ]
    }
  ],
  "metadata": {
    "colab": {
      "provenance": []
    },
    "kernelspec": {
      "display_name": "Python 3",
      "name": "python3"
    },
    "language_info": {
      "codemirror_mode": {
        "name": "ipython",
        "version": 3
      },
      "file_extension": ".py",
      "mimetype": "text/x-python",
      "name": "python",
      "nbconvert_exporter": "python",
      "pygments_lexer": "ipython3",
      "version": "3.11.9"
    }
  },
  "nbformat": 4,
  "nbformat_minor": 0
}
